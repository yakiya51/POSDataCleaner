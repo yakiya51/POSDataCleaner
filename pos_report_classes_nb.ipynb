{
 "cells": [
  {
   "cell_type": "code",
   "execution_count": 190,
   "metadata": {},
   "outputs": [],
   "source": [
    "import pandas as pd\n",
    "import re\n",
    "import numpy as np\n",
    "\n",
    "class POSReport:\n",
    "    def __init__(self, file_path, header_row_index, columns_to_keep):\n",
    "        self.file_path = file_path\n",
    "        self.header_row_index = header_row_index\n",
    "        self.columns_to_keep = columns_to_keep\n",
    "        self.output_table = []\n",
    "        self.df = pd.read_excel(self.file_path, header= self.header_row_index, usecols=self.columns_to_keep, dtype='str')\n",
    "\n",
    "\n",
    "class InventoryList(POSReport):\n",
    "    def __init__(self, file_path, header_row_index=4, columns_to_keep=\"A:C\"):\n",
    "        super().__init__(file_path, header_row_index, columns_to_keep)\n",
    "        self.filter_df()\n",
    "\n",
    "    def filter_df(self):\n",
    "        \"\"\"\n",
    "        Filter Steps:\n",
    "        - Disregard contents in columns D onwards\n",
    "        - Remove blank rows\n",
    "        - Remove irrelevat rows (non-item rows) such as column, category, total rows\n",
    "        - Remove Duplicate Rows\n",
    "        \"\"\"\n",
    "        self.df.dropna(thresh=3, inplace=True)\n",
    "        # Drop Header Rows and Total Rows\n",
    "        self.df = self.df.drop(self.df[(self.df.Category == 'Category') & (self.df.Name == 'Name') & (self.df.UPC == 'UPC')].index)\n",
    "        self.df = self.df.drop(self.df[(self.df.Category == 'None') & (self.df.Name == 'Open Item - Transaction Fee')].index)\n",
    "        self.df = self.df.drop(self.df[(self.df.Category == 'None') & (self.df.Name == 'Transaction Fee')].index)\n",
    "        # Drop duplicate rows\n",
    "        self.df.drop_duplicates(keep='last', inplace=True)\n",
    "        return\n",
    "        \n",
    "\n",
    "class PriceList(POSReport):\n",
    "    def __init__(self, file_path, header_row_index=3, columns_to_keep='A:C'):\n",
    "        super().__init__(file_path, header_row_index, columns_to_keep)\n",
    "        self.filter_df()\n",
    "\n",
    "    def filter_df(self):\n",
    "        \"\"\"\n",
    "        Filter Steps:\n",
    "        - Disregard contents in columns D through G\n",
    "        - Remove blank rows\n",
    "        - Remove irrelevat rows (non-item rows) such as column, category, total rows\n",
    "        - Strip/Upper each item name & size\n",
    "        - Try and extract the unit/packaging size\n",
    "        - Remove Duplicate Rows\n",
    "        \"\"\"\n",
    "        self.df.rename(columns={\"Item Name\": \"Name\"}, inplace=True)\n",
    "        # Drop blank rows\n",
    "        self.df.dropna(thresh=2, inplace=True, subset=['Name', 'Price'])\n",
    "        # Drop Header Rows and Total Rows\n",
    "        self.df = self.df.drop(self.df[(self.df.Name == 'Item Name') & (self.df.Size == 'Size') & (self.df.Price == 'Price')].index)\n",
    "        self.df = self.df.drop(self.df[(self.df.Name == 'None') & (self.df.Price == 'Open Item - Transaction Fee')].index)\n",
    "        self.df = self.df.drop(self.df[(self.df.Name == 'None') & (self.df.Price == 'Transaction Fee')].index)\n",
    "        # Drop duplicate rows\n",
    "        self.df.drop_duplicates(keep='last', inplace=True)\n",
    "        return\n",
    "           \n",
    "\n",
    "class SalesList(POSReport):\n",
    "    def __init__(self, file_path, header_row_index=7, columns_to_keep='A:B'):\n",
    "        super().__init__(file_path, header_row_index, columns_to_keep)\n",
    "        self.filter_df()\n",
    "\n",
    "    def filter_df(self):\n",
    "        \"\"\"\n",
    "        Extract only the items and their UPC on the sales list\n",
    "        \"\"\"\n",
    "        self.df.rename(columns={\"Item Name\": \"Name\"}, inplace=True)\n",
    "        self.df.dropna(thresh=2, inplace=True)\n",
    "        # Drop Header Rows and Total Rows\n",
    "        self.df = self.df.drop(self.df[(self.df.UPC == 'UPC') & (self.df.Name == 'Item Name') & (self.df.UPC == 'UPC')].index)\n",
    "        # Drop duplicate rows\n",
    "        self.df.drop_duplicates(keep='last', inplace=True)\n",
    "        return\n",
    "        \n",
    "pd.set_option('display.max_rows', 500)"
   ]
  },
  {
   "cell_type": "code",
   "execution_count": 191,
   "metadata": {},
   "outputs": [
    {
     "name": "stdout",
     "output_type": "stream",
     "text": [
      "WARNING *** OLE2 inconsistency: SSCS size is 0 but SSAT size is non-zero\n"
     ]
    }
   ],
   "source": [
    "inventory = InventoryList('./pos_reports/inventory/inv_10_14_2021.xls')\n",
    "price = PriceList('./pos_reports/price/price_10_14_2021.xls')"
   ]
  },
  {
   "cell_type": "code",
   "execution_count": 192,
   "metadata": {},
   "outputs": [
    {
     "name": "stdout",
     "output_type": "stream",
     "text": [
      "WARNING *** OLE2 inconsistency: SSCS size is 0 but SSAT size is non-zero\n",
      "WARNING *** OLE2 inconsistency: SSCS size is 0 but SSAT size is non-zero\n",
      "WARNING *** OLE2 inconsistency: SSCS size is 0 but SSAT size is non-zero\n",
      "WARNING *** OLE2 inconsistency: SSCS size is 0 but SSAT size is non-zero\n",
      "WARNING *** OLE2 inconsistency: SSCS size is 0 but SSAT size is non-zero\n",
      "WARNING *** OLE2 inconsistency: SSCS size is 0 but SSAT size is non-zero\n",
      "3278\n"
     ]
    }
   ],
   "source": [
    "# Get a df of all items sold in the past 6 months\n",
    "sales_dfs = []\n",
    "# Read in and append SalesList objects to the list\n",
    "for i in range(4,10):\n",
    "    sales_dfs.append(SalesList(f'./pos_reports/sales/sales_{i}.xls').df)\n",
    "\n",
    "all_sales_items = pd.concat(sales_dfs)\n",
    "all_sales_items = all_sales_items.drop_duplicates(keep='last')\n",
    "print(len(all_sales_items))"
   ]
  },
  {
   "cell_type": "code",
   "execution_count": 193,
   "metadata": {},
   "outputs": [
    {
     "name": "stdout",
     "output_type": "stream",
     "text": [
      "6430\n",
      "3278\n"
     ]
    }
   ],
   "source": [
    "print(len(inventory.df))\n",
    "print(len(all_sales_items))"
   ]
  },
  {
   "cell_type": "code",
   "execution_count": 194,
   "metadata": {},
   "outputs": [],
   "source": [
    "# Remove inactive items\n",
    "active_inventory = pd.merge(all_sales_items, inventory.df, on=['Name','UPC'], how='right', indicator='Active')\n",
    "active_inventory['Active'] = np.where(active_inventory.Active == 'both', True, False)\n",
    "active_inventory = active_inventory[active_inventory['Active']==True]\n",
    "active_inventory.drop(\"Active\", axis=1, inplace=True)"
   ]
  },
  {
   "cell_type": "code",
   "execution_count": 195,
   "metadata": {},
   "outputs": [],
   "source": [
    "# Create a column that marks items with duplicates (need price manually changed)\n",
    "active_inventory['Duplicate'] = active_inventory['Name'].duplicated()"
   ]
  },
  {
   "cell_type": "code",
   "execution_count": 196,
   "metadata": {},
   "outputs": [
    {
     "name": "stdout",
     "output_type": "stream",
     "text": [
      "3273\n"
     ]
    }
   ],
   "source": [
    "print(len(active_inventory))"
   ]
  },
  {
   "cell_type": "code",
   "execution_count": 197,
   "metadata": {},
   "outputs": [
    {
     "name": "stderr",
     "output_type": "stream",
     "text": [
      "C:\\Users\\Yuta\\AppData\\Local\\Temp/ipykernel_2352/546642087.py:3: FutureWarning: As the xlwt package is no longer maintained, the xlwt engine will be removed in a future version of pandas. This is the only engine in pandas that supports writing in the xls format. Install openpyxl and write to an xlsx file instead. You can set the option io.excel.xls.writer to 'xlwt' to silence this warning. While this option is deprecated and will also raise a warning, it can be globally set and the warning suppressed.\n",
      "  complete_list.to_excel('product_list.xls')\n"
     ]
    }
   ],
   "source": [
    "complete_list = pd.merge(active_inventory, price.df,  how='left', on='Name', validate='many_to_many')\n",
    "complete_list.drop_duplicates(subset=['UPC', 'Name'], keep='first', inplace=True)\n",
    "complete_list.to_excel('product_list.xls')"
   ]
  },
  {
   "cell_type": "code",
   "execution_count": 198,
   "metadata": {},
   "outputs": [],
   "source": [
    "unit_size_expression = '\\d+(\\.\\d- )*(ML|L|OZ|GALLON|GAL|OZ|L|O|0Z|G|LBS|QT|Z){1}'\n",
    "packaging_size_expression = '\\d+(\\.\\d- )*(PAK|PK|CAN|P|BLT|BTL|PACK|CT|BTLS|OZ BOTTLE|CN|STICKS|OZ CN|OZ CAN){1}'\n",
    "\n",
    "def extract_unit_size(x):\n",
    "    item_name = str(x).strip()\n",
    "    filter = re.compile(unit_size_expression)\n",
    "    if x and re.search(filter, item_name):\n",
    "            search = re.search(filter, item_name)\n",
    "            return item_name[search.start():search.end()]\n",
    "    return ''\n",
    "\n",
    "def extract_packaging_size(x):\n",
    "    item_name = str(x).strip()\n",
    "    filter = re.compile(packaging_size_expression)\n",
    "    if re.search(filter, item_name):\n",
    "        search = re.search(filter, item_name)\n",
    "        return item_name[search.start():search.end()]\n",
    "    return ''"
   ]
  },
  {
   "cell_type": "code",
   "execution_count": 199,
   "metadata": {},
   "outputs": [
    {
     "name": "stderr",
     "output_type": "stream",
     "text": [
      "C:\\Users\\Yuta\\AppData\\Local\\Temp/ipykernel_2352/2767063147.py:21: FutureWarning: As the xlwt package is no longer maintained, the xlwt engine will be removed in a future version of pandas. This is the only engine in pandas that supports writing in the xls format. Install openpyxl and write to an xlsx file instead. You can set the option io.excel.xls.writer to 'xlwt' to silence this warning. While this option is deprecated and will also raise a warning, it can be globally set and the warning suppressed.\n",
      "  complete_list.to_excel('product_list.xls')\n"
     ]
    }
   ],
   "source": [
    "complete_list.Name = complete_list.Name.apply(lambda x: x.upper())\n",
    "complete_list['Packaging Size'] = ''\n",
    "complete_list['Needs Size'] = complete_list['Size'].isnull()\n",
    "# Extract unit/packaging size\n",
    "for index, row in complete_list.iterrows():\n",
    "    if complete_list.loc[index, 'Needs Size']:\n",
    "        unit_size = extract_unit_size(complete_list.loc[index, 'Name'])\n",
    "        complete_list.loc[index, 'Size'] = unit_size\n",
    "        if unit_size:\n",
    "            complete_list.loc[index, 'Name'] = complete_list.loc[index, 'Name'].replace(unit_size, '')\n",
    "    # Extract packaging size\n",
    "    packaging_size = extract_packaging_size(complete_list.loc[index, 'Name'])\n",
    "    complete_list.loc[index, 'Packaging Size'] = packaging_size\n",
    "    if packaging_size:\n",
    "        complete_list.loc[index, 'Name'] = complete_list.loc[index, 'Name'].replace(packaging_size, '')\n",
    "\n",
    "complete_list['Size'] = complete_list['Size'].apply(lambda x: (re.sub(r\"([0-9]+(\\.[0-9]+)?)\",r\"\\1 \", x)).upper().strip())\n",
    "complete_list['Packaging Size'] = complete_list['Packaging Size'].apply(lambda x: (re.sub(r\"([0-9]+(\\.[0-9]+)?)\",r\"\\1 \", x)).upper())\n",
    "# Reorder Columns\n",
    "complete_list = complete_list[['UPC', 'Name', 'Category', 'Size', 'Packaging Size', 'Price', 'Duplicate']]\n",
    "complete_list.to_excel('product_list.xls')"
   ]
  }
 ],
 "metadata": {
  "interpreter": {
   "hash": "28968914b7cf50295fc1346d8de32eaa9cb9615a6200515a2975768dd2b44b39"
  },
  "kernelspec": {
   "display_name": "Python 3.9.5 64-bit",
   "name": "python3"
  },
  "language_info": {
   "codemirror_mode": {
    "name": "ipython",
    "version": 3
   },
   "file_extension": ".py",
   "mimetype": "text/x-python",
   "name": "python",
   "nbconvert_exporter": "python",
   "pygments_lexer": "ipython3",
   "version": "3.9.5"
  },
  "orig_nbformat": 4
 },
 "nbformat": 4,
 "nbformat_minor": 2
}
